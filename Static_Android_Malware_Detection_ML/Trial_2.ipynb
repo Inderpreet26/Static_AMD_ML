{
 "cells": [
  {
   "cell_type": "code",
   "execution_count": 2,
   "metadata": {},
   "outputs": [],
   "source": [
    "import numpy as np\n",
    "import pandas as pd\n",
    "import time\n",
    "import os\n",
    "import pickle\n",
    "import psutil\n",
    "from pympler import asizeof\n",
    "\n",
    "from sklearn.model_selection import train_test_split, GridSearchCV\n",
    "from sklearn.preprocessing import StandardScaler, MinMaxScaler\n",
    "from sklearn.ensemble import RandomForestClassifier\n",
    "from sklearn.metrics import accuracy_score, roc_auc_score, classification_report\n",
    "\n",
    "from sklearn.feature_selection import SelectKBest, chi2\n",
    "\n",
    "from sklearn.feature_selection import SelectFromModel\n",
    "\n",
    "from imblearn.over_sampling import SMOTE\n"
   ]
  },
  {
   "cell_type": "code",
   "execution_count": 3,
   "metadata": {},
   "outputs": [
    {
     "name": "stdout",
     "output_type": "stream",
     "text": [
      "Data shape: (11526, 392)\n",
      "   ACCESS_PERSONAL_INFO___  ALTER_PHONE_STATE___  ANTI_DEBUG_____  \\\n",
      "0                        1                     0                0   \n",
      "1                        3                     0                0   \n",
      "2                        2                     0                0   \n",
      "3                        1                     0                0   \n",
      "4                        3                     0                0   \n",
      "\n",
      "   CREATE_FOLDER_____  CREATE_PROCESS`_____  CREATE_THREAD_____  \\\n",
      "0                   3                     0                  14   \n",
      "1                   6                     0                  42   \n",
      "2                   4                     0                  23   \n",
      "3                   4                     0                  27   \n",
      "4                  11                     0                  18   \n",
      "\n",
      "   DEVICE_ACCESS_____  EXECUTE_____  FS_ACCESS____  FS_ACCESS()____  ...  \\\n",
      "0                   2             0              3                0  ...   \n",
      "1                  91             0             32                0  ...   \n",
      "2                   3             0             17                2  ...   \n",
      "3                   9             0             36                0  ...   \n",
      "4                   3             0             16                0  ...   \n",
      "\n",
      "   updateAppWidgetProvider  utimes  vibrate  vibratePattern  wait4  \\\n",
      "0                        0       0        0               0      0   \n",
      "1                        0       0        0               0      0   \n",
      "2                        0       0        0               0      0   \n",
      "3                        0       0        0               0      0   \n",
      "4                        0       0        0               0      0   \n",
      "\n",
      "   watchRotation  windowGainedFocus  write  writev  Class  \n",
      "0              0                  0     37      10      1  \n",
      "1              0                  2   2838      46      1  \n",
      "2              0                  1    111      20      1  \n",
      "3              0                  7    987     197      1  \n",
      "4              0                  1     98      25      1  \n",
      "\n",
      "[5 rows x 392 columns]\n",
      "\n",
      "Class Distribution:\n",
      "Class\n",
      "1    9734\n",
      "0    1792\n",
      "Name: count, dtype: int64\n"
     ]
    }
   ],
   "source": [
    "data_path = \"clean_dataset_malware2.csv\"  \n",
    "df = pd.read_csv(data_path)\n",
    "\n",
    "print(\"Data shape:\", df.shape)\n",
    "print(df.head())\n",
    "\n",
    "# Remove duplicates and fill missing values\n",
    "df.drop_duplicates(inplace=True)\n",
    "df.fillna(0, inplace=True)\n",
    "\n",
    "# Mapping the \"Class\" column: values < 5 become 1 (malicious), value 5 becomes 0 (benign)\n",
    "df['Class'] = df['Class'].apply(lambda x: 1 if x < 5 else 0)\n",
    "print(\"\\nClass Distribution:\")\n",
    "print(df['Class'].value_counts())"
   ]
  },
  {
   "cell_type": "code",
   "execution_count": 4,
   "metadata": {},
   "outputs": [
    {
     "name": "stdout",
     "output_type": "stream",
     "text": [
      "X shape: (11526, 391)\n",
      "y shape: (11526,)\n"
     ]
    }
   ],
   "source": [
    "# Split into Features (X) and Target (y)\n",
    "\n",
    "X = df.drop(columns=['Class'])\n",
    "y = df['Class']\n",
    "\n",
    "print(\"X shape:\", X.shape)\n",
    "print(\"y shape:\", y.shape)"
   ]
  },
  {
   "cell_type": "code",
   "execution_count": 5,
   "metadata": {},
   "outputs": [
    {
     "name": "stdout",
     "output_type": "stream",
     "text": [
      "Train shape: (9220, 391) Test shape: (2306, 391)\n"
     ]
    }
   ],
   "source": [
    "# Train-Test Split & Scaling\n",
    "\n",
    "X_train, X_test, y_train, y_test = train_test_split(\n",
    "    X, y, test_size=0.2, random_state=42, stratify=y\n",
    ")\n",
    "print(\"Train shape:\", X_train.shape, \"Test shape:\", X_test.shape)\n",
    "\n",
    "scaler = StandardScaler()\n",
    "X_train_scaled = scaler.fit_transform(X_train)\n",
    "X_test_scaled  = scaler.transform(X_test)"
   ]
  },
  {
   "cell_type": "code",
   "execution_count": 6,
   "metadata": {},
   "outputs": [
    {
     "name": "stdout",
     "output_type": "stream",
     "text": [
      "\n",
      "After SMOTE, training class distribution:\n",
      "Class\n",
      "1    7787\n",
      "0    7787\n",
      "Name: count, dtype: int64\n"
     ]
    }
   ],
   "source": [
    "# Apply SMOTE on Training Data\n",
    "\n",
    "smote = SMOTE(random_state=42)\n",
    "X_train_smote, y_train_smote = smote.fit_resample(X_train_scaled, y_train)\n",
    "print(\"\\nAfter SMOTE, training class distribution:\")\n",
    "print(pd.Series(y_train_smote).value_counts())"
   ]
  },
  {
   "cell_type": "code",
   "execution_count": null,
   "metadata": {},
   "outputs": [
    {
     "name": "stdout",
     "output_type": "stream",
     "text": [
      "\n",
      "--- Feature Selection: Chi-Square Test ---\n",
      "Chi-Square selected features shape - Train: (15574, 80) Test: (2306, 80)\n"
     ]
    }
   ],
   "source": [
    "# Feature Selection Approach A: Chi-Square Test (Filter Method)\n",
    "\n",
    "print(\"\\n--- Feature Selection: Chi-Square Test ---\")\n",
    "\n",
    "# Use MinMaxScaler for the chi-square branch.\n",
    "minmax_scaler = MinMaxScaler()\n",
    "X_train_minmax = minmax_scaler.fit_transform(X_train_smote)\n",
    "X_test_minmax = minmax_scaler.transform(X_test_scaled)\n",
    "\n",
    "k_features = 80  # number of features to select\n",
    "chi2_selector = SelectKBest(score_func=chi2, k=k_features)\n",
    "X_train_chi2 = chi2_selector.fit_transform(X_train_minmax, y_train_smote)\n",
    "X_test_chi2 = chi2_selector.transform(X_test_minmax)\n",
    "print(\"Chi-Square selected features shape - Train:\", X_train_chi2.shape, \"Test:\", X_test_chi2.shape)"
   ]
  },
  {
   "cell_type": "code",
   "execution_count": null,
   "metadata": {},
   "outputs": [
    {
     "name": "stdout",
     "output_type": "stream",
     "text": [
      "\n",
      "--- Feature Selection: Tree-Based Importance ---\n",
      "Tree-based selected features shape - Train: (15574, 196) Test: (2306, 196)\n"
     ]
    }
   ],
   "source": [
    "# Feature Selection Approach B: Tree-Based Feature Importance \n",
    "\n",
    "print(\"\\n--- Feature Selection: Tree-Based Importance ---\")\n",
    "tree_estimator = RandomForestClassifier(n_estimators=50, random_state=42)\n",
    "tree_estimator.fit(X_train_smote, y_train_smote)\n",
    "# Using the median importance as threshold\n",
    "sfm = SelectFromModel(tree_estimator, threshold=\"median\", prefit=True)\n",
    "X_train_tree = sfm.transform(X_train_smote)\n",
    "X_test_tree = sfm.transform(X_test_scaled)\n",
    "print(\"Tree-based selected features shape - Train:\", X_train_tree.shape, \"Test:\", X_test_tree.shape)\n"
   ]
  },
  {
   "cell_type": "code",
   "execution_count": null,
   "metadata": {},
   "outputs": [
    {
     "name": "stdout",
     "output_type": "stream",
     "text": [
      "\n",
      "--- Training Final Model with Tree-Based Feature Selection ---\n",
      "Fitting 5 folds for each of 9 candidates, totalling 45 fits\n",
      "Tree-Based Features - Best Parameters: {'max_depth': 20, 'n_estimators': 100}\n",
      "Tree-Based Features - Best CV Accuracy: 0.9891\n",
      "Tree-Based Features - Test Accuracy: 0.9796\n",
      "Tree-Based Features - Test ROC-AUC: 0.9963\n",
      "Tree-Based Features - Training Time: 40.9994 seconds\n",
      "\n",
      "Tree-Based Features - Classification Report:\n",
      "              precision    recall  f1-score   support\n",
      "\n",
      "           0       0.94      0.93      0.93       359\n",
      "           1       0.99      0.99      0.99      1947\n",
      "\n",
      "    accuracy                           0.98      2306\n",
      "   macro avg       0.96      0.96      0.96      2306\n",
      "weighted avg       0.98      0.98      0.98      2306\n",
      "\n"
     ]
    }
   ],
   "source": [
    "\n",
    "# Final Model Training with GridSearchCV for Each Feature Selection Approach\n",
    "\n",
    "def train_and_evaluate(X_train_fs, X_test_fs, y_train_fs, y_test, method_label):\n",
    "    print(\"\\n--- Training Final Model with {} Feature Selection ---\".format(method_label))\n",
    "    rf_model = RandomForestClassifier(random_state=42)\n",
    "    param_grid = {\n",
    "        'n_estimators': [50, 100, 150],\n",
    "        'max_depth': [None, 10, 20]\n",
    "    }\n",
    "    grid = GridSearchCV(rf_model, param_grid=param_grid, cv=5, scoring='accuracy', n_jobs=-1, verbose=1)\n",
    "    start_time = time.time()\n",
    "    grid.fit(X_train_fs, y_train_fs)\n",
    "    train_time = time.time() - start_time\n",
    "\n",
    "    y_pred = grid.predict(X_test_fs)\n",
    "    y_pred_proba = grid.predict_proba(X_test_fs)[:, 1]\n",
    "\n",
    "    acc = accuracy_score(y_test, y_pred)\n",
    "    auc = roc_auc_score(y_test, y_pred_proba)\n",
    "    print(\"{} Features - Best Parameters: {}\".format(method_label, grid.best_params_))\n",
    "    print(\"{} Features - Best CV Accuracy: {:.4f}\".format(method_label, grid.best_score_))\n",
    "    print(\"{} Features - Test Accuracy: {:.4f}\".format(method_label, acc))\n",
    "    print(\"{} Features - Test ROC-AUC: {:.4f}\".format(method_label, auc))\n",
    "    print(\"{} Features - Training Time: {:.4f} seconds\".format(method_label, train_time))\n",
    "    print(\"\\n{} Features - Classification Report:\\n{}\".format(method_label, classification_report(y_test, y_pred)))\n",
    "    \n",
    "    return grid, train_time\n",
    "\n",
    "# Train and evaluate on Chi-Square selected features\n",
    "# grid_chi2, train_time_chi2 = train_and_evaluate(X_train_chi2, X_test_chi2, y_train_smote, y_test, \"Chi-Square\")\n",
    "\n",
    "# Train and evaluate on Tree-based selected features\n",
    "grid_tree, train_time_tree = train_and_evaluate(X_train_tree, X_test_tree, y_train_smote, y_test, \"Tree-Based\")\n"
   ]
  },
  {
   "cell_type": "code",
   "execution_count": 10,
   "metadata": {},
   "outputs": [
    {
     "name": "stdout",
     "output_type": "stream",
     "text": [
      "\n",
      "--- Baseline Model (Full Feature Set) Evaluation ---\n",
      "Baseline Full Features - Accuracy: 0.9801\n",
      "Baseline Full Features - ROC-AUC: 0.9959\n",
      "Baseline Full Features - Training Time: 7.7752 seconds\n",
      "\n",
      "Baseline Full Features - Classification Report:\n",
      "               precision    recall  f1-score   support\n",
      "\n",
      "           0       0.94      0.94      0.94       359\n",
      "           1       0.99      0.99      0.99      1947\n",
      "\n",
      "    accuracy                           0.98      2306\n",
      "   macro avg       0.96      0.96      0.96      2306\n",
      "weighted avg       0.98      0.98      0.98      2306\n",
      "\n"
     ]
    }
   ],
   "source": [
    "############################################################\n",
    "# 8. Baseline Model (Full Feature Set) for Comparison\n",
    "############################################################\n",
    "print(\"\\n--- Baseline Model (Full Feature Set) Evaluation ---\")\n",
    "rf_full = RandomForestClassifier(n_estimators=100, random_state=42)\n",
    "start_time = time.time()\n",
    "rf_full.fit(X_train_smote, y_train_smote)\n",
    "train_time_full = time.time() - start_time\n",
    "\n",
    "y_pred_full = rf_full.predict(X_test_scaled)\n",
    "y_pred_full_proba = rf_full.predict_proba(X_test_scaled)[:, 1]\n",
    "\n",
    "acc_full = accuracy_score(y_test, y_pred_full)\n",
    "auc_full = roc_auc_score(y_test, y_pred_full_proba)\n",
    "print(\"Baseline Full Features - Accuracy: {:.4f}\".format(acc_full))\n",
    "print(\"Baseline Full Features - ROC-AUC: {:.4f}\".format(auc_full))\n",
    "print(\"Baseline Full Features - Training Time: {:.4f} seconds\".format(train_time_full))\n",
    "print(\"\\nBaseline Full Features - Classification Report:\\n\", classification_report(y_test, y_pred_full))"
   ]
  },
  {
   "cell_type": "code",
   "execution_count": 14,
   "metadata": {},
   "outputs": [
    {
     "name": "stdout",
     "output_type": "stream",
     "text": [
      "\n",
      "--- Step 1: Tree-Based Feature Selection ---\n",
      "After tree-based selection, X_train shape: (15574, 196)\n"
     ]
    }
   ],
   "source": [
    "print(\"\\n--- Step 1: Tree-Based Feature Selection ---\")\n",
    "# Train a RandomForest to get feature importances\n",
    "tree_estimator = RandomForestClassifier(n_estimators=50, random_state=42)\n",
    "tree_estimator.fit(X_train_smote, y_train_smote)\n",
    "\n",
    "# Use SelectFromModel with a threshold (e.g., median importance)\n",
    "sfm = SelectFromModel(tree_estimator, threshold=\"median\", prefit=True)\n",
    "X_train_tree = sfm.transform(X_train_smote)\n",
    "X_test_tree = sfm.transform(X_test_scaled)\n",
    "print(\"After tree-based selection, X_train shape:\", X_train_tree.shape)"
   ]
  },
  {
   "cell_type": "code",
   "execution_count": 15,
   "metadata": {},
   "outputs": [
    {
     "name": "stdout",
     "output_type": "stream",
     "text": [
      "\n",
      "--- Step 2: RFECV on Tree-Based Selected Features ---\n",
      "RFECV selected 195 features out of 196.\n",
      "Final feature set shape after RFECV - X_train: (15574, 195)\n"
     ]
    }
   ],
   "source": [
    "from sklearn.feature_selection import SelectFromModel, RFECV\n",
    "from sklearn.model_selection import StratifiedKFold, GridSearchCV\n",
    "\n",
    "# Step 2: Further Refinement using RFECV\n",
    "# ------------------------------\n",
    "print(\"\\n--- Step 2: RFECV on Tree-Based Selected Features ---\")\n",
    "cv = StratifiedKFold(n_splits=5, shuffle=True, random_state=42)\n",
    "rf_for_rfecv = RandomForestClassifier(n_estimators=50, random_state=42)\n",
    "rfecv = RFECV(estimator=rf_for_rfecv, \n",
    "              step=5, \n",
    "              cv=cv, \n",
    "              scoring='accuracy', \n",
    "              min_features_to_select=195, \n",
    "              n_jobs=-1)\n",
    "rfecv.fit(X_train_tree, y_train_smote)\n",
    "print(\"RFECV selected {} features out of {}.\".format(rfecv.n_features_, X_train_tree.shape[1]))\n",
    "# Reduce training and testing data to the features selected by RFECV\n",
    "X_train_final = X_train_tree[:, rfecv.support_]\n",
    "X_test_final = X_test_tree[:, rfecv.support_]\n",
    "print(\"Final feature set shape after RFECV - X_train:\", X_train_final.shape)"
   ]
  },
  {
   "cell_type": "code",
   "execution_count": 16,
   "metadata": {},
   "outputs": [
    {
     "name": "stdout",
     "output_type": "stream",
     "text": [
      "\n",
      "--- Step 3: Final Model Training with GridSearchCV ---\n",
      "Fitting 5 folds for each of 9 candidates, totalling 45 fits\n",
      "\n",
      "GridSearchCV training time: 40.0126 seconds\n",
      "Best parameters found: {'max_depth': None, 'n_estimators': 150}\n",
      "Best CV accuracy: 0.9891\n"
     ]
    }
   ],
   "source": [
    "print(\"\\n--- Step 3: Final Model Training with GridSearchCV ---\")\n",
    "param_grid = {\n",
    "    'n_estimators': [50, 100, 150],\n",
    "    'max_depth': [None, 10, 20]\n",
    "}\n",
    "final_rf = RandomForestClassifier(random_state=42)\n",
    "grid = GridSearchCV(final_rf, param_grid=param_grid, cv=5, scoring='accuracy', n_jobs=-1, verbose=1)\n",
    "\n",
    "start_time = time.time()\n",
    "\n",
    "grid.fit(X_train_final, y_train_smote)\n",
    "train_time = time.time() - start_time\n",
    "print(\"\\nGridSearchCV training time: {:.4f} seconds\".format(train_time))\n",
    "print(\"Best parameters found:\", grid.best_params_)\n",
    "print(\"Best CV accuracy: {:.4f}\".format(grid.best_score_))"
   ]
  },
  {
   "cell_type": "code",
   "execution_count": 17,
   "metadata": {},
   "outputs": [
    {
     "name": "stdout",
     "output_type": "stream",
     "text": [
      "\n",
      "=== Final Model Evaluation on Test Data ===\n",
      "Test Accuracy: 0.9783\n",
      "Test ROC-AUC: 0.9961\n",
      "\n",
      "Classification Report:\n",
      "               precision    recall  f1-score   support\n",
      "\n",
      "           0       0.94      0.92      0.93       359\n",
      "           1       0.99      0.99      0.99      1947\n",
      "\n",
      "    accuracy                           0.98      2306\n",
      "   macro avg       0.96      0.96      0.96      2306\n",
      "weighted avg       0.98      0.98      0.98      2306\n",
      "\n"
     ]
    }
   ],
   "source": [
    "# Evaluate the Final Model\n",
    "\n",
    "y_pred = grid.predict(X_test_final)\n",
    "y_pred_proba = grid.predict_proba(X_test_final)[:, 1]\n",
    "\n",
    "acc = accuracy_score(y_test, y_pred)\n",
    "auc = roc_auc_score(y_test, y_pred_proba)\n",
    "print(\"\\n=== Final Model Evaluation on Test Data ===\")\n",
    "print(\"Test Accuracy: {:.4f}\".format(acc))\n",
    "print(\"Test ROC-AUC: {:.4f}\".format(auc))\n",
    "print(\"\\nClassification Report:\\n\", classification_report(y_test, y_pred))"
   ]
  },
  {
   "cell_type": "code",
   "execution_count": 18,
   "metadata": {},
   "outputs": [
    {
     "name": "stdout",
     "output_type": "stream",
     "text": [
      "Final Tree-Based model saved to final_model_tree.pkl\n"
     ]
    }
   ],
   "source": [
    "# Saving the Final Model\n",
    "\n",
    "final_model_tree = grid_tree.best_estimator_\n",
    "with open('final_model_tree_F.pkl', 'wb') as f:\n",
    "    pickle.dump(final_model_tree, f)\n",
    "print(\"Final Tree-Based model saved to final_model_tree.pkl\")"
   ]
  },
  {
   "cell_type": "code",
   "execution_count": 19,
   "metadata": {},
   "outputs": [
    {
     "name": "stdout",
     "output_type": "stream",
     "text": [
      "Total inference time for 2306 samples: 0.0620 seconds\n",
      "Average inference time per sample: 0.000027 seconds\n"
     ]
    }
   ],
   "source": [
    "import time\n",
    "import os\n",
    "import pickle\n",
    "import psutil\n",
    "from pympler import asizeof\n",
    "\n",
    "\n",
    "final_model = grid.best_estimator_  \n",
    "\n",
    "# Also assume X_test_final is your test data (with selected features) \n",
    "# For demonstration, if using full test data, then use X_test_scaled instead\n",
    "\n",
    "# Measure Inference Time per Sample \n",
    "start_time = time.time()\n",
    "# Obtain predictions on the test set\n",
    "y_pred_proba = final_model.predict_proba(X_test_final)[:, 1]\n",
    "end_time = time.time()\n",
    "\n",
    "total_inference_time = end_time - start_time\n",
    "num_samples = X_test_final.shape[0]\n",
    "avg_inference_time = total_inference_time / num_samples\n",
    "\n",
    "print(\"Total inference time for {} samples: {:.4f} seconds\".format(num_samples, total_inference_time))\n",
    "print(\"Average inference time per sample: {:.6f} seconds\".format(avg_inference_time))"
   ]
  },
  {
   "cell_type": "code",
   "execution_count": 20,
   "metadata": {},
   "outputs": [
    {
     "name": "stdout",
     "output_type": "stream",
     "text": [
      "Model file size (via pickle): 10074.30 KB\n",
      "Estimated in-memory model size: 178.09 KB\n"
     ]
    }
   ],
   "source": [
    "# Estimate Model Memory Footprint \n",
    "# Save the model to disk and check the file size.\n",
    "\n",
    "model_filename = 'final_model.pkl'\n",
    "with open(model_filename, 'wb') as f:\n",
    "    pickle.dump(final_model, f)\n",
    "model_file_size = os.path.getsize(model_filename) / 1024  # in KB\n",
    "print(\"Model file size (via pickle): {:.2f} KB\".format(model_file_size))\n",
    "\n",
    "# Estimate the model's in-memory size using pympler.\n",
    "\n",
    "model_memory_size = asizeof.asizeof(final_model) / 1024  # in KB\n",
    "print(\"Estimated in-memory model size: {:.2f} KB\".format(model_memory_size))\n",
    "\n",
    "# Check CPU Usage During Inference \n",
    "# Measuring CPU usage during 100 individual predictions.\n",
    "process = psutil.Process()\n",
    "cpu_usage_samples = []\n",
    "\n",
    "# Warm-up prediction\n",
    "_ = final_model.predict_proba(X_test_final[:1])\n",
    "\n",
    "\n",
    "\n"
   ]
  },
  {
   "cell_type": "code",
   "execution_count": 21,
   "metadata": {},
   "outputs": [
    {
     "name": "stdout",
     "output_type": "stream",
     "text": [
      "\n",
      "--- Training XGBoost with GridSearchCV ---\n",
      "Fitting 5 folds for each of 108 candidates, totalling 540 fits\n"
     ]
    },
    {
     "name": "stderr",
     "output_type": "stream",
     "text": [
      "c:\\Users\\archi\\AppData\\Local\\Programs\\Python\\Python311\\Lib\\site-packages\\xgboost\\training.py:183: UserWarning: [18:39:39] WARNING: C:\\actions-runner\\_work\\xgboost\\xgboost\\src\\learner.cc:738: \n",
      "Parameters: { \"use_label_encoder\" } are not used.\n",
      "\n",
      "  bst.update(dtrain, iteration=i, fobj=obj)\n"
     ]
    },
    {
     "name": "stdout",
     "output_type": "stream",
     "text": [
      "XGBoost - Best Parameters: {'colsample_bytree': 1.0, 'learning_rate': 0.1, 'max_depth': 7, 'n_estimators': 250, 'subsample': 0.8}\n",
      "XGBoost - Best CV Accuracy: 0.9845\n",
      "XGBoost - Training Time: 402.21 seconds\n"
     ]
    }
   ],
   "source": [
    "from xgboost import XGBClassifier\n",
    "from sklearn.model_selection import GridSearchCV\n",
    "import time\n",
    "\n",
    "# Defining the XGBoost classifier\n",
    "xgb_model = XGBClassifier(random_state=42, use_label_encoder=False, eval_metric='logloss')\n",
    "\n",
    "# Defining a parameter grid for XGBoost\n",
    "param_grid_xgb = {\n",
    "    'n_estimators': [150, 200, 250],\n",
    "    'max_depth': [3, 5, 7],\n",
    "    'learning_rate': [0.01, 0.05, 0.1],\n",
    "    'subsample': [0.8, 1.0],\n",
    "    'colsample_bytree': [0.8, 1.0]\n",
    "}\n",
    "\n",
    "# Set up GridSearchCV\n",
    "grid_xgb = GridSearchCV(xgb_model, param_grid=param_grid_xgb, cv=5, scoring='accuracy', n_jobs=-1, verbose=1)\n",
    "\n",
    "print(\"\\n--- Training XGBoost with GridSearchCV ---\")\n",
    "start_time = time.time()\n",
    "grid_xgb.fit(X_train_final, y_train_smote)\n",
    "train_time_xgb = time.time() - start_time\n",
    "\n",
    "print(\"XGBoost - Best Parameters:\", grid_xgb.best_params_)\n",
    "print(\"XGBoost - Best CV Accuracy: {:.4f}\".format(grid_xgb.best_score_))\n",
    "print(\"XGBoost - Training Time: {:.2f} seconds\".format(train_time_xgb))\n"
   ]
  },
  {
   "cell_type": "code",
   "execution_count": 22,
   "metadata": {},
   "outputs": [
    {
     "name": "stdout",
     "output_type": "stream",
     "text": [
      "\n",
      "=== XGBoost Model Evaluation on Test Data ===\n",
      "Test Accuracy: 0.9822\n",
      "Test ROC-AUC: 0.9970\n",
      "\n",
      "Classification Report:\n",
      "               precision    recall  f1-score   support\n",
      "\n",
      "           0       0.95      0.93      0.94       359\n",
      "           1       0.99      0.99      0.99      1947\n",
      "\n",
      "    accuracy                           0.98      2306\n",
      "   macro avg       0.97      0.96      0.97      2306\n",
      "weighted avg       0.98      0.98      0.98      2306\n",
      "\n"
     ]
    }
   ],
   "source": [
    "# Predict on test data\n",
    "y_pred_xgb = grid_xgb.predict(X_test_final)\n",
    "y_pred_xgb_proba = grid_xgb.predict_proba(X_test_final)[:, 1]\n",
    "\n",
    "# Calculate accuracy and ROC-AUC\n",
    "acc_xgb = accuracy_score(y_test, y_pred_xgb)\n",
    "auc_xgb = roc_auc_score(y_test, y_pred_xgb_proba)\n",
    "\n",
    "print(\"\\n=== XGBoost Model Evaluation on Test Data ===\")\n",
    "print(\"Test Accuracy: {:.4f}\".format(acc_xgb))\n",
    "print(\"Test ROC-AUC: {:.4f}\".format(auc_xgb))\n",
    "print(\"\\nClassification Report:\\n\", classification_report(y_test, y_pred_xgb))\n"
   ]
  },
  {
   "cell_type": "code",
   "execution_count": 23,
   "metadata": {},
   "outputs": [
    {
     "name": "stdout",
     "output_type": "stream",
     "text": [
      "\n",
      "Final XGBoost model saved to final_xgb_model_F.pkl\n"
     ]
    }
   ],
   "source": [
    "# Save the best XGBoost model using pickle\n",
    "model_filename = 'final_xgb_model_F.pkl'\n",
    "with open(model_filename, 'wb') as f:\n",
    "    pickle.dump(grid_xgb.best_estimator_, f)\n",
    "print(\"\\nFinal XGBoost model saved to\", model_filename)"
   ]
  },
  {
   "cell_type": "code",
   "execution_count": 24,
   "metadata": {},
   "outputs": [
    {
     "name": "stdout",
     "output_type": "stream",
     "text": [
      "Final XGBoost model loaded from final_xgb_model_F.pkl\n",
      "Total inference time for 2306 samples: 0.0130 seconds\n",
      "Average inference time per sample: 0.000006 seconds\n",
      "Model file size (via pickle): 633.85 KB\n",
      "Estimated in-memory model size: 5.45 KB\n"
     ]
    }
   ],
   "source": [
    "import time\n",
    "import os\n",
    "import pickle\n",
    "import psutil\n",
    "from pympler import asizeof\n",
    "\n",
    "\n",
    "model_filename = 'final_xgb_model_F.pkl'\n",
    "with open(model_filename, 'rb') as f:\n",
    "    final_xgb_model_F = pickle.load(f)\n",
    "print(\"Final XGBoost model loaded from\", model_filename)\n",
    "\n",
    "\n",
    "# Measure Inference Time per Sample\n",
    "\n",
    "start_time = time.time()\n",
    "\n",
    "\n",
    "# Performing prediction on the entire test set\n",
    "y_pred_proba = final_xgb_model_F.predict_proba(X_test_final)[:, 1]\n",
    "end_time = time.time()\n",
    "\n",
    "total_inference_time = end_time - start_time\n",
    "num_samples = X_test_final.shape[0]\n",
    "avg_inference_time = total_inference_time / num_samples\n",
    "\n",
    "print(\"Total inference time for {} samples: {:.4f} seconds\".format(num_samples, total_inference_time))\n",
    "print(\"Average inference time per sample: {:.6f} seconds\".format(avg_inference_time))\n",
    "\n",
    "\n",
    "# Estimating Model Memory Footprint\n",
    "# Saving the model to disk and measuring the file size.\n",
    "\n",
    "with open(model_filename, 'wb') as f:\n",
    "    pickle.dump(final_xgb_model_F, f)\n",
    "model_file_size = os.path.getsize(model_filename) / 1024  \n",
    "print(\"Model file size (via pickle): {:.2f} KB\".format(model_file_size))\n",
    "\n",
    "# Estimating the in-memory size of the model using pympler.\n",
    "\n",
    "model_memory_size = asizeof.asizeof(final_xgb_model_F) / 1024  # in KB\n",
    "print(\"Estimated in-memory model size: {:.2f} KB\".format(model_memory_size))\n",
    "\n"
   ]
  },
  {
   "cell_type": "code",
   "execution_count": 25,
   "metadata": {},
   "outputs": [
    {
     "name": "stdout",
     "output_type": "stream",
     "text": [
      "Optimal decision threshold: 0.39999999999999997\n",
      "F1 Score at optimal threshold: 0.9898\n",
      "Test Accuracy at optimal threshold: 0.9827\n",
      "Test ROC-AUC: 0.9970\n",
      "\n",
      "Final Model Evaluation with Threshold Tuning:\n",
      "              precision    recall  f1-score   support\n",
      "\n",
      "           0       0.97      0.92      0.94       359\n",
      "           1       0.99      0.99      0.99      1947\n",
      "\n",
      "    accuracy                           0.98      2306\n",
      "   macro avg       0.98      0.96      0.97      2306\n",
      "weighted avg       0.98      0.98      0.98      2306\n",
      "\n",
      "Model saved to final_xgb_model_F.pkl\n",
      "Total inference time for 2306 samples: 0.0100 seconds\n",
      "Average inference time per sample: 0.000004 seconds\n",
      "Model file size (via pickle): 633.85 KB\n",
      "Estimated in-memory model size: 5.45 KB\n"
     ]
    }
   ],
   "source": [
    "import numpy as np\n",
    "import time\n",
    "import os\n",
    "import pickle\n",
    "import psutil\n",
    "from pympler import asizeof\n",
    "from sklearn.metrics import f1_score, accuracy_score, roc_auc_score, classification_report\n",
    "\n",
    "# --- Threshold Tuning and Evaluation ---\n",
    "# Predict probabilities on the test set using the final model\n",
    "y_pred_proba = final_xgb_model_F.predict_proba(X_test_final)[:, 1]\n",
    "\n",
    "# Define a range of thresholds to try\n",
    "thresholds = np.linspace(0.3, 0.7, 21)\n",
    "best_thresh = 0.5\n",
    "best_f1 = 0\n",
    "\n",
    "# Iterate over thresholds to find the one with the best F1 score\n",
    "for thresh in thresholds:\n",
    "    y_pred_thresh = (y_pred_proba >= thresh).astype(int)\n",
    "    f1 = f1_score(y_test, y_pred_thresh)\n",
    "    if f1 > best_f1:\n",
    "        best_f1 = f1\n",
    "        best_thresh = thresh\n",
    "\n",
    "print(\"Optimal decision threshold:\", best_thresh)\n",
    "print(\"F1 Score at optimal threshold: {:.4f}\".format(best_f1))\n",
    "\n",
    "# Evaluate final metrics using the optimal threshold\n",
    "y_pred_final = (y_pred_proba >= best_thresh).astype(int)\n",
    "test_accuracy = accuracy_score(y_test, y_pred_final)\n",
    "roc_auc = roc_auc_score(y_test, y_pred_proba)\n",
    "\n",
    "print(\"Test Accuracy at optimal threshold: {:.4f}\".format(test_accuracy))\n",
    "print(\"Test ROC-AUC: {:.4f}\".format(roc_auc))\n",
    "print(\"\\nFinal Model Evaluation with Threshold Tuning:\")\n",
    "print(classification_report(y_test, y_pred_final))\n",
    "\n",
    "# --- Save the Final Model ---\n",
    "model_filename = 'final_xgb_model_F.pkl'\n",
    "with open(model_filename, 'wb') as f:\n",
    "    pickle.dump(final_xgb_model_F, f)\n",
    "print(\"Model saved to\", model_filename)\n",
    "\n",
    "# --- Measure Inference Time ---\n",
    "start_time = time.time()\n",
    "# Run inference on the full test set\n",
    "_ = final_xgb_model_F.predict_proba(X_test_final)\n",
    "end_time = time.time()\n",
    "total_inference_time = end_time - start_time\n",
    "num_samples = X_test_final.shape[0]\n",
    "avg_inference_time = total_inference_time / num_samples\n",
    "\n",
    "print(\"Total inference time for {} samples: {:.4f} seconds\".format(num_samples, total_inference_time))\n",
    "print(\"Average inference time per sample: {:.6f} seconds\".format(avg_inference_time))\n",
    "\n",
    "# --- Estimate Model Memory Footprint ---\n",
    "# Option A: File size via pickle\n",
    "model_file_size = os.path.getsize(model_filename) / 1024  # in KB\n",
    "# Option B: In-memory size using pympler\n",
    "model_memory_size = asizeof.asizeof(final_xgb_model_F) / 1024  # in KB\n",
    "\n",
    "print(\"Model file size (via pickle): {:.2f} KB\".format(model_file_size))\n",
    "print(\"Estimated in-memory model size: {:.2f} KB\".format(model_memory_size))\n",
    "\n",
    "\n"
   ]
  },
  {
   "cell_type": "code",
   "execution_count": 26,
   "metadata": {},
   "outputs": [
    {
     "name": "stdout",
     "output_type": "stream",
     "text": [
      "\n",
      "--- Training CatBoost ---\n",
      "CatBoost Test Accuracy: 0.9770\n",
      "CatBoost Test ROC-AUC: 0.9957\n",
      "CatBoost Training Time: 21.79 seconds\n",
      "CatBoost Classification Report:\n",
      "               precision    recall  f1-score   support\n",
      "\n",
      "           0       0.94      0.91      0.93       359\n",
      "           1       0.98      0.99      0.99      1947\n",
      "\n",
      "    accuracy                           0.98      2306\n",
      "   macro avg       0.96      0.95      0.96      2306\n",
      "weighted avg       0.98      0.98      0.98      2306\n",
      "\n",
      "CatBoost Total inference time for 2306 samples: 0.0060 seconds\n",
      "CatBoost Average inference time per sample: 0.000003 seconds\n",
      "CatBoost Model file size (via pickle): 1110.15 KB\n",
      "CatBoost Estimated in-memory model size: 9.29 KB\n"
     ]
    }
   ],
   "source": [
    "import time, os, pickle, psutil\n",
    "from pympler import asizeof\n",
    "from catboost import CatBoostClassifier\n",
    "from sklearn.metrics import accuracy_score, roc_auc_score, classification_report\n",
    "\n",
    "# Train CatBoost\n",
    "print(\"\\n--- Training CatBoost ---\")\n",
    "cat_model = CatBoostClassifier(random_state=42, verbose=0)\n",
    "start_time = time.time()\n",
    "cat_model.fit(X_train_final, y_train_smote)\n",
    "cat_train_time = time.time() - start_time\n",
    "\n",
    "# Evaluate on test data\n",
    "y_pred_cat = cat_model.predict(X_test_final)\n",
    "y_pred_cat_proba = cat_model.predict_proba(X_test_final)[:, 1]\n",
    "acc_cat = accuracy_score(y_test, y_pred_cat)\n",
    "auc_cat = roc_auc_score(y_test, y_pred_cat_proba)\n",
    "report_cat = classification_report(y_test, y_pred_cat)\n",
    "\n",
    "print(\"CatBoost Test Accuracy: {:.4f}\".format(acc_cat))\n",
    "print(\"CatBoost Test ROC-AUC: {:.4f}\".format(auc_cat))\n",
    "print(\"CatBoost Training Time: {:.2f} seconds\".format(cat_train_time))\n",
    "print(\"CatBoost Classification Report:\\n\", report_cat)\n",
    "\n",
    "# Measure Inference Time\n",
    "start_time = time.time()\n",
    "_ = cat_model.predict_proba(X_test_final)\n",
    "total_inference_time = time.time() - start_time\n",
    "avg_inference_time = total_inference_time / X_test_final.shape[0]\n",
    "print(\"CatBoost Total inference time for {} samples: {:.4f} seconds\".format(X_test_final.shape[0], total_inference_time))\n",
    "print(\"CatBoost Average inference time per sample: {:.6f} seconds\".format(avg_inference_time))\n",
    "\n",
    "# Estimate Memory Footprint\n",
    "model_filename = 'cat_model.pkl'\n",
    "with open(model_filename, 'wb') as f:\n",
    "    pickle.dump(cat_model, f)\n",
    "model_file_size = os.path.getsize(model_filename) / 1024  # in KB\n",
    "model_memory_size = asizeof.asizeof(cat_model) / 1024  # in KB\n",
    "print(\"CatBoost Model file size (via pickle): {:.2f} KB\".format(model_file_size))\n",
    "print(\"CatBoost Estimated in-memory model size: {:.2f} KB\".format(model_memory_size))\n",
    "\n",
    "\n"
   ]
  },
  {
   "cell_type": "code",
   "execution_count": 27,
   "metadata": {},
   "outputs": [
    {
     "name": "stdout",
     "output_type": "stream",
     "text": [
      "\n",
      "--- Training Logistic Regression (L1 Regularization) ---\n",
      "Logistic Regression Test Accuracy: 0.9545\n",
      "Logistic Regression Test ROC-AUC: 0.9591\n",
      "Logistic Regression Training Time: 10.08 seconds\n",
      "Logistic Regression Classification Report:\n",
      "               precision    recall  f1-score   support\n",
      "\n",
      "           0       0.84      0.88      0.86       359\n",
      "           1       0.98      0.97      0.97      1947\n",
      "\n",
      "    accuracy                           0.95      2306\n",
      "   macro avg       0.91      0.92      0.92      2306\n",
      "weighted avg       0.96      0.95      0.95      2306\n",
      "\n",
      "Logistic Regression Total inference time for 2306 samples: 0.0020 seconds\n",
      "Logistic Regression Average inference time per sample: 0.000001 seconds\n",
      "Logistic Regression Model file size (via pickle): 2.23 KB\n",
      "Logistic Regression Estimated in-memory model size: 6.15 KB\n"
     ]
    }
   ],
   "source": [
    "import time, os, pickle, psutil\n",
    "from pympler import asizeof\n",
    "from sklearn.linear_model import LogisticRegression\n",
    "from sklearn.metrics import accuracy_score, roc_auc_score, classification_report\n",
    "\n",
    "# Train Logistic Regression with L1 penalty (for sparsity)\n",
    "print(\"\\n--- Training Logistic Regression (L1 Regularization) ---\")\n",
    "logreg = LogisticRegression(penalty='l1', solver='liblinear', random_state=42)\n",
    "start_time = time.time()\n",
    "logreg.fit(X_train_final, y_train_smote)\n",
    "logreg_train_time = time.time() - start_time\n",
    "\n",
    "# Evaluate on test data\n",
    "y_pred_lr = logreg.predict(X_test_final)\n",
    "y_pred_lr_proba = logreg.predict_proba(X_test_final)[:, 1]\n",
    "acc_lr = accuracy_score(y_test, y_pred_lr)\n",
    "auc_lr = roc_auc_score(y_test, y_pred_lr_proba)\n",
    "report_lr = classification_report(y_test, y_pred_lr)\n",
    "\n",
    "print(\"Logistic Regression Test Accuracy: {:.4f}\".format(acc_lr))\n",
    "print(\"Logistic Regression Test ROC-AUC: {:.4f}\".format(auc_lr))\n",
    "print(\"Logistic Regression Training Time: {:.2f} seconds\".format(logreg_train_time))\n",
    "print(\"Logistic Regression Classification Report:\\n\", report_lr)\n",
    "\n",
    "# Measure Inference Time\n",
    "start_time = time.time()\n",
    "_ = logreg.predict_proba(X_test_final)\n",
    "total_inference_time = time.time() - start_time\n",
    "avg_inference_time = total_inference_time / X_test_final.shape[0]\n",
    "print(\"Logistic Regression Total inference time for {} samples: {:.4f} seconds\".format(X_test_final.shape[0], total_inference_time))\n",
    "print(\"Logistic Regression Average inference time per sample: {:.6f} seconds\".format(avg_inference_time))\n",
    "\n",
    "# Estimate Memory Footprint\n",
    "model_filename = 'logreg_model.pkl'\n",
    "with open(model_filename, 'wb') as f:\n",
    "    pickle.dump(logreg, f)\n",
    "model_file_size = os.path.getsize(model_filename) / 1024  # in KB\n",
    "model_memory_size = asizeof.asizeof(logreg) / 1024  # in KB\n",
    "print(\"Logistic Regression Model file size (via pickle): {:.2f} KB\".format(model_file_size))\n",
    "print(\"Logistic Regression Estimated in-memory model size: {:.2f} KB\".format(model_memory_size))\n",
    "\n",
    "\n"
   ]
  },
  {
   "cell_type": "code",
   "execution_count": 30,
   "metadata": {},
   "outputs": [
    {
     "data": {
      "image/png": "[encoded data removed]",
      "text/plain": [
       "<Figure size 1000x800 with 1 Axes>"
      ]
     },
     "metadata": {},
     "output_type": "display_data"
    }
   ],
   "source": [
    "import matplotlib.pyplot as plt\n",
    "from sklearn.metrics import roc_curve, auc\n",
    "\n",
    "plt.figure(figsize=(10, 8))\n",
    "\n",
    "models = {\n",
    "    'Random Forest': final_model,\n",
    "    'XGBoost': final_xgb_model_F,\n",
    "    'Logistic Regression': logreg,\n",
    "    'CatBoost': cat_model\n",
    "}\n",
    "\n",
    "for name, model in models.items():\n",
    "    if hasattr(model, \"predict_proba\"):\n",
    "        y_proba = model.predict_proba(X_test_final)[:, 1]\n",
    "    else:\n",
    "        # Some classifiers use decision_function instead\n",
    "        y_proba = model.decision_function(X_test_final)\n",
    "    fpr, tpr, _ = roc_curve(y_test, y_proba)\n",
    "    roc_auc = auc(fpr, tpr)\n",
    "    plt.plot(fpr, tpr, lw=2, label=f'{name} (AUC = {roc_auc:.2f})')\n",
    "\n",
    "plt.plot([0, 1], [0, 1], color='navy', lw=2, linestyle='--')\n",
    "plt.xlim([0.0, 1.0])\n",
    "plt.ylim([0.0, 1.05])\n",
    "plt.xlabel('False Positive Rate')\n",
    "plt.ylabel('True Positive Rate')\n",
    "plt.title('Receiver Operating Characteristic (ROC) Curves')\n",
    "plt.legend(loc='lower right')\n",
    "plt.tight_layout()\n",
    "plt.savefig(\"roc_curves.png\", dpi=300)\n",
    "plt.show()"
   ]
  },
  {
   "cell_type": "code",
   "execution_count": 31,
   "metadata": {},
   "outputs": [
    {
     "name": "stdout",
     "output_type": "stream",
     "text": [
      "X_test_final shape: (2306, 195)\n",
      "X_train shape: (9220, 391)\n",
      "Are they the same? Any overlap in indices?\n"
     ]
    }
   ],
   "source": [
    "print(\"X_test_final shape:\", X_test_final.shape)\n",
    "print(\"X_train shape:\", X_train.shape)\n",
    "print(\"Are they the same? Any overlap in indices?\")\n"
   ]
  },
  {
   "cell_type": "code",
   "execution_count": 32,
   "metadata": {},
   "outputs": [
    {
     "name": "stdout",
     "output_type": "stream",
     "text": [
      "Length of y_test: 2306\n",
      "Shape of X_test_final: (2306, 195)\n"
     ]
    }
   ],
   "source": [
    "print(\"Length of y_test:\", len(y_test))\n",
    "print(\"Shape of X_test_final:\", X_test_final.shape)\n",
    "# Make sure they're aligned row-by-row.\n"
   ]
  },
  {
   "cell_type": "code",
   "execution_count": 33,
   "metadata": {},
   "outputs": [
    {
     "name": "stdout",
     "output_type": "stream",
     "text": [
      "[0 1] [ 359 1947]\n"
     ]
    }
   ],
   "source": [
    "import numpy as np\n",
    "unique_labels, counts = np.unique(y_test, return_counts=True)\n",
    "print(unique_labels, counts)\n"
   ]
  },
  {
   "cell_type": "code",
   "execution_count": 34,
   "metadata": {},
   "outputs": [
    {
     "name": "stdout",
     "output_type": "stream",
     "text": [
      "Random Forest [[ 331   28]\n",
      " [  22 1925]]\n",
      "XGBoost [[ 334   25]\n",
      " [  16 1931]]\n",
      "Logistic Regression [[ 315   44]\n",
      " [  61 1886]]\n",
      "CatBoost [[ 327   32]\n",
      " [  21 1926]]\n"
     ]
    }
   ],
   "source": [
    "from sklearn.metrics import confusion_matrix\n",
    "\n",
    "for name, model in models.items():\n",
    "    y_pred = model.predict(X_test_final)\n",
    "    cm = confusion_matrix(y_test, y_pred)\n",
    "    print(name, cm)\n"
   ]
  },
  {
   "cell_type": "code",
   "execution_count": 35,
   "metadata": {},
   "outputs": [
    {
     "name": "stdout",
     "output_type": "stream",
     "text": [
      "X_train shape: (9220, 391)\n",
      "X_test_final shape: (2306, 195)\n",
      "y_train length: 9220\n",
      "y_test length: 2306\n",
      "Unique y_test: (array([0, 1], dtype=int64), array([ 359, 1947], dtype=int64))\n"
     ]
    }
   ],
   "source": [
    "print(\"X_train shape:\", X_train.shape)\n",
    "print(\"X_test_final shape:\", X_test_final.shape)\n",
    "print(\"y_train length:\", len(y_train))\n",
    "print(\"y_test length:\", len(y_test))\n",
    "print(\"Unique y_test:\", np.unique(y_test, return_counts=True))\n"
   ]
  }
 ],
 "metadata": {
  "kernelspec": {
   "display_name": "Python 3.11 (myenv)",
   "language": "python",
   "name": "myenv"
  },
  "language_info": {
   "codemirror_mode": {
    "name": "ipython",
    "version": 3
   },
   "file_extension": ".py",
   "mimetype": "text/x-python",
   "name": "python",
   "nbconvert_exporter": "python",
   "pygments_lexer": "ipython3",
   "version": "3.11.5"
  }
 },
 "nbformat": 4,
 "nbformat_minor": 2
}
